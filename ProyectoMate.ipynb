{
  "nbformat": 4,
  "nbformat_minor": 0,
  "metadata": {
    "colab": {
      "name": "ProyectoMate",
      "provenance": [],
      "collapsed_sections": [],
      "authorship_tag": "ABX9TyOUDm0fSU6qeOXx+vL1nAI6",
      "include_colab_link": true
    },
    "kernelspec": {
      "name": "python3",
      "display_name": "Python 3"
    },
    "language_info": {
      "name": "python"
    }
  },
  "cells": [
    {
      "cell_type": "markdown",
      "metadata": {
        "id": "view-in-github",
        "colab_type": "text"
      },
      "source": [
        "<a href=\"https://colab.research.google.com/github/CASV2001/gitprueba/blob/master/ProyectoMate.ipynb\" target=\"_parent\"><img src=\"https://colab.research.google.com/assets/colab-badge.svg\" alt=\"Open In Colab\"/></a>"
      ]
    },
    {
      "cell_type": "markdown",
      "source": [
        "Comandos y ayudas"
      ],
      "metadata": {
        "id": "vATFBdBHbCyN"
      }
    },
    {
      "cell_type": "code",
      "execution_count": null,
      "metadata": {
        "id": "EH73HL8_NzfY"
      },
      "outputs": [],
      "source": [
        "import numpy as np\n",
        "\n",
        "\n",
        "print(\"- Matriz creada con una lista de listas:\")\n",
        "MatrizA = np.matrix([ [1  ,-4, 3], [12 , 3, 5] , [7.2, 5, 0] , [1,1,1]])\n",
        "MatrizB = np.matrix([[1, 0, 5], [4, 3 , 9], [2, 5 ,1] , [0,0,0]])\n",
        "MatrizC = MatrizA - MatrizB\n",
        "print(MatrizC)\n",
        "\n",
        "\n",
        "\"\"\"Invertir matricez\"\"\"\n",
        "\"\"\"print(np.linalg.inv(MatrizC))\"\"\"\n",
        "\n",
        "N = input(\"Ingresa un numero\")\n",
        "n = int(N)\n",
        "print(\"- Matriz creada con np.zeros:\")\n",
        "dimensiones=(3,3)\n",
        "matriz_ceros = np.zeros(dimensiones)\n",
        "print(matriz_ceros)\n",
        "\n",
        "\n",
        "print(\"Matriz Identidad nxn\")\n",
        "\n",
        "Filas, columnas = MatrizA.shape\n",
        "\n",
        "dimensiones = (Filas, columnas)\n",
        "\n",
        "MatrizD = np.zeros(dimensiones)\n",
        "\n",
        "print(MatrizD)\n",
        "\n",
        "MatrizI = np.identity(Filas)\n",
        "\n",
        "print(MatrizI)\n"
      ]
    },
    {
      "cell_type": "markdown",
      "source": [
        "Solución del ejercicio 47 y 48"
      ],
      "metadata": {
        "id": "q7WRvUBXa8iY"
      }
    },
    {
      "cell_type": "code",
      "source": [
        "import numpy as np\n",
        "\n",
        "MatrizA = np.matrix([[0.293, 0, 0] , [0.014, 0.207, 0.017] , [0.044, 0.010, 0.216 ]])\n",
        "Exportaciones = np.matrix([[13213], [17597], [1786]])\n",
        "print(\"Tenemos nuestra matriz A\")\n",
        "print(MatrizA)\n",
        "print(\"Y nuestro vector columna\")\n",
        "print(Exportaciones)\n",
        "\n",
        "Filas, columnas = MatrizA.shape\n",
        "\n",
        "MatrizI = np.identity(Filas)\n",
        "\n",
        "MatrizResta = MatrizI - MatrizA\n",
        "print(\"Restamos a la matriz A la matriz Identidad\")\n",
        "print(MatrizResta)\n",
        "\n",
        "MatrizRI = np.linalg.inv(MatrizResta)\n",
        "print(\"Le sacamos Inversa\")\n",
        "print(MatrizRI)\n",
        "\n",
        "MatrizResultado = MatrizRI*Exportaciones\n",
        "print(\"Lo multiplicamos por e vector columna lo que nos da el resultado final\")\n",
        "\n",
        "print(MatrizResultado)\n"
      ],
      "metadata": {
        "colab": {
          "base_uri": "https://localhost:8080/"
        },
        "id": "wAywBJVYa7uV",
        "outputId": "1fa6f087-af95-47c4-f77d-c678dadd7b91"
      },
      "execution_count": 27,
      "outputs": [
        {
          "output_type": "stream",
          "name": "stdout",
          "text": [
            "Tenemos nuestra matriz A\n",
            "[[0.293 0.    0.   ]\n",
            " [0.014 0.207 0.017]\n",
            " [0.044 0.01  0.216]]\n",
            "Y nuestro vector columna\n",
            "[[13213]\n",
            " [17597]\n",
            " [ 1786]]\n",
            "Restamos a la matriz A la matriz Identidad\n",
            "[[ 0.707  0.     0.   ]\n",
            " [-0.014  0.793 -0.017]\n",
            " [-0.044 -0.01   0.784]]\n",
            "Le sacamos Inversa\n",
            "[[1.41442716 0.         0.        ]\n",
            " [0.02668001 1.26137896 0.02735133]\n",
            " [0.07972142 0.01608902 1.27585907]]\n",
            "Lo multiplicamos por e vector columna lo que nos da el resultado final\n",
            "[[18688.82602546]\n",
            " [22597.85790232]\n",
            " [ 3615.16189304]]\n"
          ]
        }
      ]
    },
    {
      "cell_type": "markdown",
      "source": [
        "Solución para un modelo de economía con N sectores"
      ],
      "metadata": {
        "id": "V8Ehl3eBfXcy"
      }
    },
    {
      "cell_type": "code",
      "source": [
        ""
      ],
      "metadata": {
        "id": "pbKzitolfeah"
      },
      "execution_count": null,
      "outputs": []
    }
  ]
}